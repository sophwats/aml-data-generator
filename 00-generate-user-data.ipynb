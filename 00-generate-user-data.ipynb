{
 "cells": [
  {
   "cell_type": "markdown",
   "metadata": {},
   "source": [
    "## Simulating Personally Identifiable Information \n",
    "\n",
    "\n",
    "In this notebook, we will simulate fake bank customers. We will generate a range of personally identifiable information (PII) for each customer including:\n",
    "    - First name\n",
    "    - Surname\n",
    "    - Gender \n",
    "    - Date of Birth\n",
    "    - Country of residence\n",
    "    - Social Security number\n",
    "    - Bank account details\n",
    "    \n",
    "We will also note whether the customer is on any watchlists. \n",
    "\n",
    "Later in the notebook we will simulate the user's behaviour changing over time. Once a user exists they may change their name or state of residence, or they may be added to a watchlist.  to model users' changing their state of residence or Surname, for example."
   ]
  },
  {
   "cell_type": "markdown",
   "metadata": {},
   "source": [
    "We follow the methodology laid out [here](https://chapeau.freevariable.com/2020/02/repeatable-simulation-without-boilerplate.html) to ensure that any simulations can be deterministic, and thus repeatable. This is really desirable as it enables us to replay data on new models over time. "
   ]
  },
  {
   "cell_type": "code",
   "execution_count": 1,
   "metadata": {},
   "outputs": [],
   "source": [
    "### Setting up repeatibility\n",
    "### This is copied directly from Will's notebook\n",
    "### to do - ? put into a separate file?\n",
    "def makeprng(func):\n",
    "    import time\n",
    "    def call_with_prng(*args, prng=None, seed=None, **kwargs):\n",
    "        if prng is None:\n",
    "            if seed is None:\n",
    "                seed = int(time.time()) & ((1 << 32) - 1)\n",
    "            prng = np.random.RandomState(seed)\n",
    "        return func(*args, prng=prng, seed=seed, **kwargs)\n",
    "    return call_with_prng"
   ]
  },
  {
   "cell_type": "markdown",
   "metadata": {},
   "source": [
    "## Simulating Names\n",
    "\n",
    "We begin by simulating user names and genders:"
   ]
  },
  {
   "cell_type": "code",
   "execution_count": 2,
   "metadata": {},
   "outputs": [],
   "source": [
    "## to do - put this BeautifulSoup code in a separate file\n",
    "## then just import the lists of names. \n",
    "\n",
    "from bs4 import BeautifulSoup\n",
    "import random\n",
    "import numpy as np\n",
    "\n",
    "\n",
    "with open(\"data/faroese-female.htm\") as ff:\n",
    "    soup = BeautifulSoup(ff)\n",
    "\n",
    "names = soup.find_all('a')\n",
    "\n",
    "female_names = []\n",
    "for n in names:\n",
    "    try:\n",
    "        female_names.append(n['title'].rsplit(' ')[0])\n",
    "    except Exception:\n",
    "        pass\n",
    "del female_names[0]\n",
    "\n",
    "with open(\"data/faroese-male.htm\") as fm:\n",
    "    soup = BeautifulSoup(fm)\n",
    "    \n",
    "mnames = soup.find_all('a')\n",
    "male_names = []\n",
    "for n in mnames:\n",
    "    try:\n",
    "        male_names.append(n['title'].rsplit(' ')[0])\n",
    "    except Exception:\n",
    "        pass\n",
    "del male_names[0]\n",
    "\n",
    "n_male = len(male_names)\n",
    "n_female = len(female_names)\n",
    "\n",
    "#invoking the decorator\n",
    "@makeprng\n",
    "def names(males, females, dist=0.5, prng=None, seed=None):\n",
    "    random.seed(seed)\n",
    "    while True:\n",
    "        rand = random.random()\n",
    "        surname = males[prng.randint(0, n_male-1)]\n",
    "        if rand < dist:\n",
    "            gender = 'male'\n",
    "            first_name = males[prng.randint(0, n_male-1)]\n",
    "            surname = surname + 'son'\n",
    "        else:\n",
    "            first_name = females[prng.randint(0, n_female-1)]\n",
    "            surname = surname + 'dóttir'\n",
    "            gender = 'female'\n",
    "        result = {'first_name':first_name, \n",
    "                  'surname':surname, \n",
    "                  ' gender':gender}\n",
    "        yield tuple(r for r in result.values())"
   ]
  },
  {
   "cell_type": "code",
   "execution_count": 3,
   "metadata": {},
   "outputs": [],
   "source": [
    "sim = names(male_names, female_names, 0.5, seed = 104)"
   ]
  },
  {
   "cell_type": "code",
   "execution_count": 4,
   "metadata": {},
   "outputs": [
    {
     "name": "stdout",
     "output_type": "stream",
     "text": [
      "('Sunnfríð', 'Ásfinnurdóttir', 'female')\n",
      "('Gerda', 'Sjúrðurdóttir', 'female')\n",
      "('Eir', 'Rasmusdóttir', 'female')\n",
      "('Sjúrði', 'Bjørgheðinson', 'male')\n",
      "('Vilmundur', 'Kristjanson', 'male')\n",
      "('Fípa', 'Ormsteindóttir', 'female')\n",
      "('Nanný', 'Ovidóttir', 'female')\n",
      "('Saul', 'Hjørmundurson', 'male')\n",
      "('Adrian', 'Syftunson', 'male')\n",
      "('Oyvør', 'Hjørturdóttir', 'female')\n"
     ]
    }
   ],
   "source": [
    "for i in range(10):\n",
    "    print(next(sim))"
   ]
  },
  {
   "cell_type": "markdown",
   "metadata": {},
   "source": [
    "## Simulating Dates of Birth\n",
    "\n",
    "We also want to simulate realistic dates of birth for each customer. We assume that the customers were born uniformly between the 1st of January 1920 and the 1st of January 2005.\n",
    "\n",
    "We can use the `datetime` functionality built into Numpy to achieve this. We could just write this as a standard function, but for benefits of repeatibility discussed [here](https://chapeau.freevariable.com/2020/02/repeatable-simulation-without-boilerplate.html) we will set up a generator:"
   ]
  },
  {
   "cell_type": "code",
   "execution_count": 5,
   "metadata": {},
   "outputs": [],
   "source": [
    "@makeprng\n",
    "def dob(prng=None, seed=None):\n",
    "    while True:\n",
    "        date = np.datetime64('1920-01-01') + np.timedelta64(prng.randint(0, 365*85), 'D')\n",
    "        yield(date)"
   ]
  },
  {
   "cell_type": "code",
   "execution_count": 6,
   "metadata": {},
   "outputs": [],
   "source": [
    "dates = dob(seed=101)"
   ]
  },
  {
   "cell_type": "code",
   "execution_count": 7,
   "metadata": {},
   "outputs": [
    {
     "name": "stdout",
     "output_type": "stream",
     "text": [
      "1956-01-03\n",
      "1969-02-03\n",
      "1968-08-01\n",
      "1941-12-02\n",
      "1935-08-05\n",
      "1966-07-01\n",
      "1981-09-02\n",
      "1953-11-06\n",
      "1976-01-10\n",
      "1967-07-10\n",
      "1980-05-21\n",
      "1980-08-21\n",
      "1927-03-08\n",
      "1978-08-20\n",
      "1997-10-08\n",
      "1937-09-08\n",
      "1955-08-25\n",
      "1980-10-20\n",
      "1973-07-27\n",
      "1984-06-30\n"
     ]
    }
   ],
   "source": [
    "for i in range(20):\n",
    "    print(next(dates))"
   ]
  },
  {
   "cell_type": "markdown",
   "metadata": {},
   "source": [
    "## Simulate a Location\n",
    "\n",
    "We're going to assume all customers are uniformly distributed across the USA, and will assign them a State at random upon generation.\n",
    "\n",
    "To do this we first need to define a list of States:"
   ]
  },
  {
   "cell_type": "code",
   "execution_count": 8,
   "metadata": {},
   "outputs": [],
   "source": [
    "us_states = ['AL', 'AK', 'AZ', 'AR', 'CA', 'CO', 'CT', 'DE', 'FL', 'GA', 'HI', 'ID', \n",
    "            'IL', 'IN', 'IA', 'KS', 'KY', 'LA', 'ME', 'MD', 'MA', 'MI', 'MN', 'MS', 'MO',\n",
    "            'MT', 'NE', 'NV', 'NH', 'NJ', 'NM', 'NY', 'NC', 'ND', 'OH', \n",
    "            'OK', 'OR', 'PA', 'RI', 'SC', 'SD', 'TN', 'TX', 'UT', 'VT', \n",
    "            'VA', 'WA', 'WV', 'WI', 'WY']"
   ]
  },
  {
   "cell_type": "code",
   "execution_count": 9,
   "metadata": {},
   "outputs": [],
   "source": [
    "@makeprng\n",
    "def us_state(states= us_states, prng= None, seed = None):\n",
    "    while True:\n",
    "        state = prng.choice(states)\n",
    "        yield(state)"
   ]
  },
  {
   "cell_type": "code",
   "execution_count": 10,
   "metadata": {},
   "outputs": [],
   "source": [
    "trying = us_state(seed=293)"
   ]
  },
  {
   "cell_type": "code",
   "execution_count": 11,
   "metadata": {},
   "outputs": [
    {
     "name": "stdout",
     "output_type": "stream",
     "text": [
      "RI\n",
      "MS\n",
      "IN\n",
      "ID\n",
      "OR\n",
      "TX\n",
      "NJ\n",
      "NY\n",
      "NY\n",
      "PA\n"
     ]
    }
   ],
   "source": [
    "for i in range(10):\n",
    "    print(next(trying))"
   ]
  },
  {
   "cell_type": "markdown",
   "metadata": {},
   "source": [
    "We also set up a generator to simulate Social Security Numbers (SSNs)"
   ]
  },
  {
   "cell_type": "code",
   "execution_count": 12,
   "metadata": {},
   "outputs": [],
   "source": [
    "@makeprng\n",
    "def ssn(prng= None, seed = None):\n",
    "    while True:\n",
    "        ssn = f'{prng.randint(0, (10**10)-1):010}'\n",
    "        yield ssn"
   ]
  },
  {
   "cell_type": "code",
   "execution_count": 13,
   "metadata": {},
   "outputs": [],
   "source": [
    "ssns = ssn(seed = 143)"
   ]
  },
  {
   "cell_type": "code",
   "execution_count": 14,
   "metadata": {},
   "outputs": [
    {
     "name": "stdout",
     "output_type": "stream",
     "text": [
      "8229052961\n",
      "6247600733\n",
      "4568348801\n",
      "7409279376\n",
      "8685241312\n",
      "4924994265\n",
      "5452556245\n",
      "3878666205\n",
      "0023109492\n",
      "9839588751\n"
     ]
    }
   ],
   "source": [
    "for i in range(10):\n",
    "    print(next(ssns))"
   ]
  },
  {
   "cell_type": "code",
   "execution_count": 15,
   "metadata": {},
   "outputs": [],
   "source": [
    "def ids(prng= None, seed = None):\n",
    "    uid = 0\n",
    "    while True:\n",
    "        uid = uid+1\n",
    "        yield uid"
   ]
  },
  {
   "cell_type": "code",
   "execution_count": 16,
   "metadata": {},
   "outputs": [],
   "source": [
    "u_ids = ids()\n",
    "name = names(male_names, female_names, 0.5, seed=123) #- this is a name generator\n",
    "dates = dob(seed=456)\n",
    "states = us_state(seed=432)\n",
    "ssns = ssn(seed=987)\n",
    "\n",
    "\n",
    "def initial_ppi():\n",
    "        \n",
    "        while True:\n",
    "            uid = next(u_ids)\n",
    "            user_name = next(name)\n",
    "            dob = next(dates)\n",
    "            location = next(states)\n",
    "            ssn = next(ssns)\n",
    "            bank = \"001\"\n",
    "            account = 1223334444\n",
    "                        \n",
    "            result = {\n",
    "                \"user_name\": user_name,\n",
    "                \"location\": location,\n",
    "                \"DOB\": dob,\n",
    "                \"SSN\": ssn,\n",
    "                \"bank\": bank,\n",
    "                \"account\": account}\n",
    "   \n",
    "            yield ((uid, *result.values()))"
   ]
  },
  {
   "cell_type": "code",
   "execution_count": 17,
   "metadata": {},
   "outputs": [],
   "source": [
    "testing = initial_ppi()"
   ]
  },
  {
   "cell_type": "code",
   "execution_count": 18,
   "metadata": {},
   "outputs": [
    {
     "name": "stdout",
     "output_type": "stream",
     "text": [
      "(1, ('Herbjartur', 'Kolfinnurson', 'male'), 'CT', numpy.datetime64('2003-10-31'), '8173579990', '001', 1223334444)\n",
      "(2, ('Hákun', 'Hervarðurson', 'male'), 'AL', numpy.datetime64('1921-09-05'), '0240364399', '001', 1223334444)\n",
      "(3, ('Sólmundur', 'Benadiktson', 'male'), 'UT', numpy.datetime64('1963-12-04'), '5244376387', '001', 1223334444)\n",
      "(4, ('Niklái', 'Aleksson', 'male'), 'OR', numpy.datetime64('1994-07-16'), '7813837217', '001', 1223334444)\n",
      "(5, ('Brá', 'Bergurdóttir', 'female'), 'UT', numpy.datetime64('1981-10-17'), '0597960811', '001', 1223334444)\n",
      "(6, ('Eyðbjartur', 'Matsson', 'male'), 'NC', numpy.datetime64('1949-05-23'), '8830221438', '001', 1223334444)\n",
      "(7, ('Berta', 'Snævardóttir', 'female'), 'PA', numpy.datetime64('1989-10-25'), '9164906441', '001', 1223334444)\n",
      "(8, ('Pál', 'Birgarson', 'male'), 'CO', numpy.datetime64('1953-02-27'), '4448122658', '001', 1223334444)\n",
      "(9, ('Ata', 'Arnbjørndóttir', 'female'), 'KS', numpy.datetime64('2001-08-21'), '9150365426', '001', 1223334444)\n",
      "(10, ('Eyðsvein', 'Liasson', 'male'), 'KS', numpy.datetime64('1954-04-24'), '8132359934', '001', 1223334444)\n",
      "(11, ('Hørður', 'Bessison', 'male'), 'SD', numpy.datetime64('1952-03-10'), '0169345154', '001', 1223334444)\n",
      "(12, ('Valdi', 'Hannisson', 'male'), 'MI', numpy.datetime64('1984-08-24'), '9116933541', '001', 1223334444)\n",
      "(13, ('Ingivaldur', 'Fríðmundurson', 'male'), 'NY', numpy.datetime64('1998-08-16'), '9709990377', '001', 1223334444)\n",
      "(14, ('Eskil', 'Oddgeirson', 'male'), 'WI', numpy.datetime64('1923-12-16'), '5916874433', '001', 1223334444)\n",
      "(15, ('Tóroddur', 'Ásbrandurson', 'male'), 'KS', numpy.datetime64('1993-06-30'), '6547964408', '001', 1223334444)\n",
      "(16, ('Jóannes', 'Tótison', 'male'), 'SD', numpy.datetime64('1991-12-13'), '5687607640', '001', 1223334444)\n",
      "(17, ('Hjalma', 'Ábramdóttir', 'female'), 'FL', numpy.datetime64('1935-04-17'), '5420302823', '001', 1223334444)\n",
      "(18, ('Hákun', 'Ápramson', 'male'), 'PA', numpy.datetime64('1968-12-30'), '5686226541', '001', 1223334444)\n",
      "(19, ('Mannbjørn', 'Nikodemusson', 'male'), 'UT', numpy.datetime64('1952-11-27'), '9303520390', '001', 1223334444)\n",
      "(20, ('Djóni', 'Kjartanson', 'male'), 'SC', numpy.datetime64('1981-03-10'), '1043959095', '001', 1223334444)\n",
      "(21, ('Billa', 'Borgardóttir', 'female'), 'NC', numpy.datetime64('1959-10-16'), '9301056142', '001', 1223334444)\n",
      "(22, ('Vilbergur', 'Herolvurson', 'male'), 'VA', numpy.datetime64('1959-03-03'), '9879961889', '001', 1223334444)\n",
      "(23, ('Hemingur', 'Edvardson', 'male'), 'HI', numpy.datetime64('1959-10-25'), '6907765696', '001', 1223334444)\n",
      "(24, ('Eyðhild', 'Villidóttir', 'female'), 'MN', numpy.datetime64('1959-06-25'), '8007506665', '001', 1223334444)\n",
      "(25, ('Vilhjálmur', 'Ottoson', 'male'), 'ND', numpy.datetime64('1955-11-03'), '0712361017', '001', 1223334444)\n",
      "(26, ('Gylta', 'Immanueldóttir', 'female'), 'TX', numpy.datetime64('1922-04-14'), '3929888498', '001', 1223334444)\n",
      "(27, ('Sólfríð', 'Napoleondóttir', 'female'), 'AL', numpy.datetime64('1930-10-22'), '8256528705', '001', 1223334444)\n",
      "(28, ('Úlvur', 'Bergurson', 'male'), 'AR', numpy.datetime64('1945-07-08'), '1167561297', '001', 1223334444)\n",
      "(29, ('Kára', 'Melkirdóttir', 'female'), 'TX', numpy.datetime64('1927-01-08'), '0488317974', '001', 1223334444)\n",
      "(30, ('Jónleyg', 'Tristandóttir', 'female'), 'MD', numpy.datetime64('1962-10-11'), '3710738079', '001', 1223334444)\n",
      "(31, ('Signheðin', 'Tobiasson', 'male'), 'LA', numpy.datetime64('2003-04-16'), '1959640777', '001', 1223334444)\n",
      "(32, ('Maia', 'Broddidóttir', 'female'), 'IA', numpy.datetime64('1937-09-10'), '8829985282', '001', 1223334444)\n",
      "(33, ('Immanuel', 'Geirolvurson', 'male'), 'SC', numpy.datetime64('1949-01-06'), '6073046192', '001', 1223334444)\n",
      "(34, ('Døgg', 'Svávardóttir', 'female'), 'GA', numpy.datetime64('1937-07-26'), '7203720553', '001', 1223334444)\n",
      "(35, ('Poula', 'Edvarddóttir', 'female'), 'IA', numpy.datetime64('1983-03-12'), '1707048050', '001', 1223334444)\n",
      "(36, ('Janhild', 'Herbjarturdóttir', 'female'), 'TN', numpy.datetime64('1989-01-24'), '8101660567', '001', 1223334444)\n",
      "(37, ('Sigurð', 'Búison', 'male'), 'WY', numpy.datetime64('1998-09-12'), '4861192760', '001', 1223334444)\n",
      "(38, ('Teinar', 'Hjalmarson', 'male'), 'CT', numpy.datetime64('1961-06-22'), '1097581489', '001', 1223334444)\n",
      "(39, ('Froydis', 'Fríðrikurdóttir', 'female'), 'TX', numpy.datetime64('1935-05-20'), '6213235741', '001', 1223334444)\n",
      "(40, ('Brynja', 'Hemmingurdóttir', 'female'), 'NY', numpy.datetime64('1925-09-14'), '5117576226', '001', 1223334444)\n",
      "(41, ('Elspa', 'Magnidóttir', 'female'), 'HI', numpy.datetime64('1944-02-26'), '6549438871', '001', 1223334444)\n",
      "(42, ('Steinvør', 'Helgidóttir', 'female'), 'MN', numpy.datetime64('1995-09-03'), '0355482997', '001', 1223334444)\n",
      "(43, ('Klára', 'Lávusdóttir', 'female'), 'UT', numpy.datetime64('1981-04-14'), '4408805715', '001', 1223334444)\n",
      "(44, ('Havdis', 'Tráindóttir', 'female'), 'WI', numpy.datetime64('1961-11-01'), '8497765953', '001', 1223334444)\n",
      "(45, ('Laars', 'Sørkvison', 'male'), 'NV', numpy.datetime64('1975-04-27'), '9796515814', '001', 1223334444)\n",
      "(46, ('Marý', 'Jónasdóttir', 'female'), 'NC', numpy.datetime64('1927-07-02'), '5448473386', '001', 1223334444)\n",
      "(47, ('Ørvar', 'Arngrímurson', 'male'), 'HI', numpy.datetime64('2000-07-10'), '4799954185', '001', 1223334444)\n",
      "(48, ('Gunnar', 'Sprotison', 'male'), 'TX', numpy.datetime64('1936-04-07'), '0926510587', '001', 1223334444)\n",
      "(49, ('Hjørdis', 'Arnoddurdóttir', 'female'), 'CA', numpy.datetime64('1946-04-08'), '0663183148', '001', 1223334444)\n",
      "(50, ('Ásbjørn', 'Korneliusson', 'male'), 'FL', numpy.datetime64('1991-06-19'), '9297437764', '001', 1223334444)\n",
      "(51, ('Sirið', 'Brandurdóttir', 'female'), 'KY', numpy.datetime64('1973-08-11'), '2053228689', '001', 1223334444)\n",
      "(52, ('Ronja', 'Jónsteindóttir', 'female'), 'DE', numpy.datetime64('1943-07-17'), '7101416584', '001', 1223334444)\n",
      "(53, ('Ingigerð', 'Jústinusdóttir', 'female'), 'MS', numpy.datetime64('1989-02-18'), '4446630329', '001', 1223334444)\n",
      "(54, ('Fróðar', 'Absalonson', 'male'), 'VT', numpy.datetime64('1938-09-23'), '1957254920', '001', 1223334444)\n",
      "(55, ('Eyðolvur', 'Steintórson', 'male'), 'LA', numpy.datetime64('1950-10-11'), '7256967823', '001', 1223334444)\n",
      "(56, ('Geir', 'Gabrielson', 'male'), 'NJ', numpy.datetime64('1980-09-08'), '8386374104', '001', 1223334444)\n",
      "(57, ('Aksel', 'Baldurson', 'male'), 'MD', numpy.datetime64('1946-06-27'), '0168768734', '001', 1223334444)\n",
      "(58, ('Elmar', 'Jónfinnurson', 'male'), 'ME', numpy.datetime64('1932-02-24'), '7893296842', '001', 1223334444)\n",
      "(59, ('Krista', 'Brendandóttir', 'female'), 'MA', numpy.datetime64('1978-01-17'), '3193187071', '001', 1223334444)\n",
      "(60, ('Tórhallur', 'Leivurson', 'male'), 'HI', numpy.datetime64('1961-01-07'), '1092074317', '001', 1223334444)\n",
      "(61, ('Yngvar', 'Hórðurson', 'male'), 'MN', numpy.datetime64('1983-11-26'), '5959467800', '001', 1223334444)\n",
      "(62, ('Vilmar', 'Vagnurson', 'male'), 'NV', numpy.datetime64('1920-02-14'), '9307189025', '001', 1223334444)\n",
      "(63, ('Billa', 'Ottardóttir', 'female'), 'OK', numpy.datetime64('1943-12-19'), '9076148583', '001', 1223334444)\n",
      "(64, ('Tormóður', 'Elianson', 'male'), 'ND', numpy.datetime64('1947-10-21'), '3477310459', '001', 1223334444)\n",
      "(65, ('Albin', 'Jørmundurson', 'male'), 'AK', numpy.datetime64('1988-08-06'), '8481207278', '001', 1223334444)\n",
      "(66, ('Hendrikur', 'Pólson', 'male'), 'GA', numpy.datetime64('1951-12-03'), '1686424916', '001', 1223334444)\n",
      "(67, ('Bera', 'Bernharddóttir', 'female'), 'WI', numpy.datetime64('1962-09-12'), '1760116607', '001', 1223334444)\n",
      "(68, ('Guðbjørg', 'Arnardóttir', 'female'), 'SC', numpy.datetime64('1983-02-20'), '4663379181', '001', 1223334444)\n",
      "(69, ('Halldóra', 'Gustavdóttir', 'female'), 'NE', numpy.datetime64('1953-03-10'), '4017986422', '001', 1223334444)\n",
      "(70, ('Hallvør', 'Hørðurdóttir', 'female'), 'AL', numpy.datetime64('2001-08-09'), '5906563016', '001', 1223334444)\n",
      "(71, ('Una', 'Jallgrímurdóttir', 'female'), 'OH', numpy.datetime64('1926-12-16'), '1490386147', '001', 1223334444)\n",
      "(72, ('Jófríð', 'Ingimundurdóttir', 'female'), 'MI', numpy.datetime64('1926-11-26'), '2636236710', '001', 1223334444)\n",
      "(73, ('Maifríð', 'Úlvheðindóttir', 'female'), 'AZ', numpy.datetime64('1927-03-07'), '1694508417', '001', 1223334444)\n",
      "(74, ('Hagbarður', 'Arnsveinson', 'male'), 'NY', numpy.datetime64('1980-12-08'), '7747058722', '001', 1223334444)\n",
      "(75, ('Sveinbjørn', 'Ørnolvurson', 'male'), 'MA', numpy.datetime64('1936-03-05'), '9290354815', '001', 1223334444)\n",
      "(76, ('Torleygur', 'Halgirson', 'male'), 'OR', numpy.datetime64('1937-02-21'), '3053935392', '001', 1223334444)\n",
      "(77, ('Signuva', 'Torridóttir', 'female'), 'PA', numpy.datetime64('1970-06-06'), '9956424471', '001', 1223334444)\n",
      "(78, ('Bresti', 'Baldvinson', 'male'), 'IN', numpy.datetime64('1996-05-22'), '3901410449', '001', 1223334444)\n",
      "(79, ('Irena', 'Ímundurdóttir', 'female'), 'MT', numpy.datetime64('2003-12-09'), '1646910315', '001', 1223334444)\n",
      "(80, ('Hannus', 'Gylvison', 'male'), 'OR', numpy.datetime64('1929-04-01'), '1184428795', '001', 1223334444)\n",
      "(81, ('Kaleb', 'Ovison', 'male'), 'MO', numpy.datetime64('1967-11-06'), '2857568521', '001', 1223334444)\n",
      "(82, ('Hermóður', 'Julianson', 'male'), 'GA', numpy.datetime64('1956-08-30'), '2707569228', '001', 1223334444)\n",
      "(83, ('Jonn', 'Ingvaldurson', 'male'), 'ME', numpy.datetime64('1927-03-14'), '2518730873', '001', 1223334444)\n",
      "(84, ('Súnmundur', 'Ørnolvurson', 'male'), 'MT', numpy.datetime64('1978-07-15'), '3805389073', '001', 1223334444)\n",
      "(85, ('Jørmundur', 'Arnórson', 'male'), 'PA', numpy.datetime64('1952-05-19'), '0966433135', '001', 1223334444)\n",
      "(86, ('Adrian', 'Ásmóðurson', 'male'), 'UT', numpy.datetime64('1938-10-22'), '4591357740', '001', 1223334444)\n",
      "(87, ('Hjalmar', 'Esbernson', 'male'), 'KY', numpy.datetime64('1935-11-09'), '5642071534', '001', 1223334444)\n",
      "(88, ('Eyðolvur', 'Ásarson', 'male'), 'KY', numpy.datetime64('1950-08-25'), '2771818862', '001', 1223334444)\n",
      "(89, ('Lykkir', 'Elmarson', 'male'), 'AZ', numpy.datetime64('1969-04-30'), '6231898880', '001', 1223334444)\n",
      "(90, ('Jóhannis', 'Ásleivurson', 'male'), 'MD', numpy.datetime64('1995-05-17'), '3022086784', '001', 1223334444)\n",
      "(91, ('Jøkil', 'Róarson', 'male'), 'IN', numpy.datetime64('1938-06-22'), '3537715799', '001', 1223334444)\n",
      "(92, ('Kári', 'Oyolvurson', 'male'), 'TX', numpy.datetime64('1927-09-13'), '9800295129', '001', 1223334444)\n",
      "(93, ('Sørli', 'Borgarson', 'male'), 'MN', numpy.datetime64('1979-08-24'), '1370838613', '001', 1223334444)\n",
      "(94, ('Trina', 'Ísmaldóttir', 'female'), 'NH', numpy.datetime64('1979-08-03'), '4618860861', '001', 1223334444)\n",
      "(95, ('Summarliði', 'Frímannson', 'male'), 'IL', numpy.datetime64('2002-09-14'), '0019123671', '001', 1223334444)\n",
      "(96, ('Eyð', 'Rósingurdóttir', 'female'), 'WY', numpy.datetime64('1960-05-01'), '0540674402', '001', 1223334444)\n",
      "(97, ('Jónleivur', 'Jaspurson', 'male'), 'SD', numpy.datetime64('1974-08-12'), '5564144609', '001', 1223334444)\n",
      "(98, ('Magga', 'Meinharddóttir', 'female'), 'WI', numpy.datetime64('1950-09-30'), '7553793770', '001', 1223334444)\n",
      "(99, ('Aleks', 'Korneliusson', 'male'), 'ID', numpy.datetime64('1998-03-24'), '4952833247', '001', 1223334444)\n",
      "(100, ('Steinfinnur', 'Baldvinson', 'male'), 'WV', numpy.datetime64('1938-12-09'), '7860871004', '001', 1223334444)\n"
     ]
    }
   ],
   "source": [
    "for i in range(100):\n",
    "    print(next(testing))"
   ]
  },
  {
   "cell_type": "code",
   "execution_count": 19,
   "metadata": {},
   "outputs": [],
   "source": [
    "### this would be the structure for simulating ppi for one user at a time. \n",
    "\n",
    "\n",
    "name = names(male_names, female_names, 0.5) #- this is a name generator\n",
    "dates = dob()\n",
    "states = us_state()\n",
    "ssns = ssn()\n",
    "\n",
    "\n",
    "def ppi(user_id):\n",
    "        user_name = next(name)\n",
    "        dob = next(dates)\n",
    "        location = next(states)\n",
    "        ssn = next(ssns)\n",
    "        bank = \"001\"\n",
    "        account = 1223334444\n",
    "        \n",
    "        first_run = True\n",
    "        \n",
    "        while True:\n",
    "            \n",
    "            if first_run: \n",
    "                print(\"first run\")\n",
    "                result = {\n",
    "                \"user_id\":user_id,\n",
    "                \"user_name\": user_name,\n",
    "                \"location\": location,\n",
    "                \"DOB\": dob,\n",
    "                \"SSN\": ssn,\n",
    "                \"bank\": bank,\n",
    "                \"account\": account}\n",
    "                print(result)\n",
    "                first_run = False\n",
    "            else:\n",
    "                #### this is where we sample an update to the information. \n",
    "                ### sample a time (offset) \n",
    "                result = {\n",
    "                    \"user_id\":user_id,\n",
    "                    \"user_name\": next(name),\n",
    "                    \"location\": location,\n",
    "                    \"DOB\": dob,\n",
    "                    \"SSN\": ssn,\n",
    "                    \"bank\": bank,\n",
    "                    \"account\": account\n",
    "                }\n",
    "            yield ((user_id, *result.values()))"
   ]
  },
  {
   "cell_type": "code",
   "execution_count": 20,
   "metadata": {},
   "outputs": [],
   "source": [
    "trial=ppi(1)"
   ]
  },
  {
   "cell_type": "code",
   "execution_count": 21,
   "metadata": {},
   "outputs": [
    {
     "name": "stdout",
     "output_type": "stream",
     "text": [
      "first run\n",
      "{'user_id': 1, 'user_name': ('Natasja', 'Bergleivurdóttir', 'female'), 'location': 'SC', 'DOB': numpy.datetime64('1937-02-07'), 'SSN': '2549020093', 'bank': '001', 'account': 1223334444}\n",
      "(1, 1, ('Natasja', 'Bergleivurdóttir', 'female'), 'SC', numpy.datetime64('1937-02-07'), '2549020093', '001', 1223334444)\n",
      "(1, 1, ('Kolgrímur', 'Valdison', 'male'), 'SC', numpy.datetime64('1937-02-07'), '2549020093', '001', 1223334444)\n",
      "(1, 1, ('Marja', 'Kornusdóttir', 'female'), 'SC', numpy.datetime64('1937-02-07'), '2549020093', '001', 1223334444)\n",
      "(1, 1, ('Fríðbjørg', 'Brendandóttir', 'female'), 'SC', numpy.datetime64('1937-02-07'), '2549020093', '001', 1223334444)\n",
      "(1, 1, ('Jensia', 'Jensdóttir', 'female'), 'SC', numpy.datetime64('1937-02-07'), '2549020093', '001', 1223334444)\n",
      "(1, 1, ('Fríðborg', 'Hjørleivurdóttir', 'female'), 'SC', numpy.datetime64('1937-02-07'), '2549020093', '001', 1223334444)\n",
      "(1, 1, ('Gudný', 'Eyðtórdóttir', 'female'), 'SC', numpy.datetime64('1937-02-07'), '2549020093', '001', 1223334444)\n",
      "(1, 1, ('Klara', 'Bjartidóttir', 'female'), 'SC', numpy.datetime64('1937-02-07'), '2549020093', '001', 1223334444)\n",
      "(1, 1, ('Rósingur', 'Herbjarturson', 'male'), 'SC', numpy.datetime64('1937-02-07'), '2549020093', '001', 1223334444)\n",
      "(1, 1, ('Miriam', 'Vinjardóttir', 'female'), 'SC', numpy.datetime64('1937-02-07'), '2549020093', '001', 1223334444)\n"
     ]
    }
   ],
   "source": [
    "for i in range(10):\n",
    "    print(next(trial))"
   ]
  }
 ],
 "metadata": {
  "kernelspec": {
   "display_name": "Python 3",
   "language": "python",
   "name": "python3"
  },
  "language_info": {
   "codemirror_mode": {
    "name": "ipython",
    "version": 3
   },
   "file_extension": ".py",
   "mimetype": "text/x-python",
   "name": "python",
   "nbconvert_exporter": "python",
   "pygments_lexer": "ipython3",
   "version": "3.7.4"
  }
 },
 "nbformat": 4,
 "nbformat_minor": 4
}
